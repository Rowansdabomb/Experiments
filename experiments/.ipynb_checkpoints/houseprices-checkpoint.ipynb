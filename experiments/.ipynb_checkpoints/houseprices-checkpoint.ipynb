{
 "cells": [
  {
   "cell_type": "code",
   "execution_count": 1,
   "metadata": {},
   "outputs": [],
   "source": [
    "import pandas as pd"
   ]
  },
  {
   "cell_type": "markdown",
   "metadata": {},
   "source": [
    "load csv into pandas dataframe"
   ]
  },
  {
   "cell_type": "code",
   "execution_count": 10,
   "metadata": {},
   "outputs": [
    {
     "data": {
      "text/html": [
       "<div>\n",
       "<style scoped>\n",
       "    .dataframe tbody tr th:only-of-type {\n",
       "        vertical-align: middle;\n",
       "    }\n",
       "\n",
       "    .dataframe tbody tr th {\n",
       "        vertical-align: top;\n",
       "    }\n",
       "\n",
       "    .dataframe thead th {\n",
       "        text-align: right;\n",
       "    }\n",
       "</style>\n",
       "<table border=\"1\" class=\"dataframe\">\n",
       "  <thead>\n",
       "    <tr style=\"text-align: right;\">\n",
       "      <th></th>\n",
       "      <th>LotArea</th>\n",
       "      <th>OverallQual</th>\n",
       "      <th>OverallCond</th>\n",
       "      <th>TotalBsmtSF</th>\n",
       "      <th>FullBath</th>\n",
       "      <th>HalfBath</th>\n",
       "      <th>BedroomAbvGr</th>\n",
       "      <th>TotRmsAbvGrd</th>\n",
       "      <th>Fireplaces</th>\n",
       "      <th>GarageArea</th>\n",
       "      <th>AboveMedianPrice</th>\n",
       "    </tr>\n",
       "  </thead>\n",
       "  <tbody>\n",
       "    <tr>\n",
       "      <td>0</td>\n",
       "      <td>8450</td>\n",
       "      <td>7</td>\n",
       "      <td>5</td>\n",
       "      <td>856</td>\n",
       "      <td>2</td>\n",
       "      <td>1</td>\n",
       "      <td>3</td>\n",
       "      <td>8</td>\n",
       "      <td>0</td>\n",
       "      <td>548</td>\n",
       "      <td>1</td>\n",
       "    </tr>\n",
       "    <tr>\n",
       "      <td>1</td>\n",
       "      <td>9600</td>\n",
       "      <td>6</td>\n",
       "      <td>8</td>\n",
       "      <td>1262</td>\n",
       "      <td>2</td>\n",
       "      <td>0</td>\n",
       "      <td>3</td>\n",
       "      <td>6</td>\n",
       "      <td>1</td>\n",
       "      <td>460</td>\n",
       "      <td>1</td>\n",
       "    </tr>\n",
       "    <tr>\n",
       "      <td>2</td>\n",
       "      <td>11250</td>\n",
       "      <td>7</td>\n",
       "      <td>5</td>\n",
       "      <td>920</td>\n",
       "      <td>2</td>\n",
       "      <td>1</td>\n",
       "      <td>3</td>\n",
       "      <td>6</td>\n",
       "      <td>1</td>\n",
       "      <td>608</td>\n",
       "      <td>1</td>\n",
       "    </tr>\n",
       "    <tr>\n",
       "      <td>3</td>\n",
       "      <td>9550</td>\n",
       "      <td>7</td>\n",
       "      <td>5</td>\n",
       "      <td>756</td>\n",
       "      <td>1</td>\n",
       "      <td>0</td>\n",
       "      <td>3</td>\n",
       "      <td>7</td>\n",
       "      <td>1</td>\n",
       "      <td>642</td>\n",
       "      <td>0</td>\n",
       "    </tr>\n",
       "    <tr>\n",
       "      <td>4</td>\n",
       "      <td>14260</td>\n",
       "      <td>8</td>\n",
       "      <td>5</td>\n",
       "      <td>1145</td>\n",
       "      <td>2</td>\n",
       "      <td>1</td>\n",
       "      <td>4</td>\n",
       "      <td>9</td>\n",
       "      <td>1</td>\n",
       "      <td>836</td>\n",
       "      <td>1</td>\n",
       "    </tr>\n",
       "    <tr>\n",
       "      <td>...</td>\n",
       "      <td>...</td>\n",
       "      <td>...</td>\n",
       "      <td>...</td>\n",
       "      <td>...</td>\n",
       "      <td>...</td>\n",
       "      <td>...</td>\n",
       "      <td>...</td>\n",
       "      <td>...</td>\n",
       "      <td>...</td>\n",
       "      <td>...</td>\n",
       "      <td>...</td>\n",
       "    </tr>\n",
       "    <tr>\n",
       "      <td>1455</td>\n",
       "      <td>7917</td>\n",
       "      <td>6</td>\n",
       "      <td>5</td>\n",
       "      <td>953</td>\n",
       "      <td>2</td>\n",
       "      <td>1</td>\n",
       "      <td>3</td>\n",
       "      <td>7</td>\n",
       "      <td>1</td>\n",
       "      <td>460</td>\n",
       "      <td>1</td>\n",
       "    </tr>\n",
       "    <tr>\n",
       "      <td>1456</td>\n",
       "      <td>13175</td>\n",
       "      <td>6</td>\n",
       "      <td>6</td>\n",
       "      <td>1542</td>\n",
       "      <td>2</td>\n",
       "      <td>0</td>\n",
       "      <td>3</td>\n",
       "      <td>7</td>\n",
       "      <td>2</td>\n",
       "      <td>500</td>\n",
       "      <td>1</td>\n",
       "    </tr>\n",
       "    <tr>\n",
       "      <td>1457</td>\n",
       "      <td>9042</td>\n",
       "      <td>7</td>\n",
       "      <td>9</td>\n",
       "      <td>1152</td>\n",
       "      <td>2</td>\n",
       "      <td>0</td>\n",
       "      <td>4</td>\n",
       "      <td>9</td>\n",
       "      <td>2</td>\n",
       "      <td>252</td>\n",
       "      <td>1</td>\n",
       "    </tr>\n",
       "    <tr>\n",
       "      <td>1458</td>\n",
       "      <td>9717</td>\n",
       "      <td>5</td>\n",
       "      <td>6</td>\n",
       "      <td>1078</td>\n",
       "      <td>1</td>\n",
       "      <td>0</td>\n",
       "      <td>2</td>\n",
       "      <td>5</td>\n",
       "      <td>0</td>\n",
       "      <td>240</td>\n",
       "      <td>0</td>\n",
       "    </tr>\n",
       "    <tr>\n",
       "      <td>1459</td>\n",
       "      <td>9937</td>\n",
       "      <td>5</td>\n",
       "      <td>6</td>\n",
       "      <td>1256</td>\n",
       "      <td>1</td>\n",
       "      <td>1</td>\n",
       "      <td>3</td>\n",
       "      <td>6</td>\n",
       "      <td>0</td>\n",
       "      <td>276</td>\n",
       "      <td>0</td>\n",
       "    </tr>\n",
       "  </tbody>\n",
       "</table>\n",
       "<p>1460 rows × 11 columns</p>\n",
       "</div>"
      ],
      "text/plain": [
       "      LotArea  OverallQual  OverallCond  TotalBsmtSF  FullBath  HalfBath  \\\n",
       "0        8450            7            5          856         2         1   \n",
       "1        9600            6            8         1262         2         0   \n",
       "2       11250            7            5          920         2         1   \n",
       "3        9550            7            5          756         1         0   \n",
       "4       14260            8            5         1145         2         1   \n",
       "...       ...          ...          ...          ...       ...       ...   \n",
       "1455     7917            6            5          953         2         1   \n",
       "1456    13175            6            6         1542         2         0   \n",
       "1457     9042            7            9         1152         2         0   \n",
       "1458     9717            5            6         1078         1         0   \n",
       "1459     9937            5            6         1256         1         1   \n",
       "\n",
       "      BedroomAbvGr  TotRmsAbvGrd  Fireplaces  GarageArea  AboveMedianPrice  \n",
       "0                3             8           0         548                 1  \n",
       "1                3             6           1         460                 1  \n",
       "2                3             6           1         608                 1  \n",
       "3                3             7           1         642                 0  \n",
       "4                4             9           1         836                 1  \n",
       "...            ...           ...         ...         ...               ...  \n",
       "1455             3             7           1         460                 1  \n",
       "1456             3             7           2         500                 1  \n",
       "1457             4             9           2         252                 1  \n",
       "1458             2             5           0         240                 0  \n",
       "1459             3             6           0         276                 0  \n",
       "\n",
       "[1460 rows x 11 columns]"
      ]
     },
     "execution_count": 10,
     "metadata": {},
     "output_type": "execute_result"
    }
   ],
   "source": [
    "df = pd.read_csv('../datasets/housepricedata.csv')\n",
    "df"
   ]
  },
  {
   "cell_type": "markdown",
   "metadata": {},
   "source": [
    "convert dataframe into array"
   ]
  },
  {
   "cell_type": "code",
   "execution_count": 46,
   "metadata": {},
   "outputs": [
    {
     "data": {
      "text/plain": [
       "array([[ 8450,     7,     5, ...,     0,   548,     1],\n",
       "       [ 9600,     6,     8, ...,     1,   460,     1],\n",
       "       [11250,     7,     5, ...,     1,   608,     1],\n",
       "       ...,\n",
       "       [ 9042,     7,     9, ...,     2,   252,     1],\n",
       "       [ 9717,     5,     6, ...,     0,   240,     0],\n",
       "       [ 9937,     5,     6, ...,     0,   276,     0]], dtype=int64)"
      ]
     },
     "execution_count": 46,
     "metadata": {},
     "output_type": "execute_result"
    }
   ],
   "source": [
    "dataset = df.values\n",
    "dataset"
   ]
  },
  {
   "cell_type": "code",
   "execution_count": 47,
   "metadata": {},
   "outputs": [],
   "source": [
    "X = dataset[:,0:10]\n",
    "Y = dataset[:,10]"
   ]
  },
  {
   "cell_type": "code",
   "execution_count": 48,
   "metadata": {},
   "outputs": [],
   "source": [
    "from sklearn import preprocessing"
   ]
  },
  {
   "cell_type": "code",
   "execution_count": 49,
   "metadata": {},
   "outputs": [
    {
     "data": {
      "text/plain": [
       "array([[0.0334198 , 0.66666667, 0.5       , ..., 0.5       , 0.        ,\n",
       "        0.3864598 ],\n",
       "       [0.03879502, 0.55555556, 0.875     , ..., 0.33333333, 0.33333333,\n",
       "        0.32440056],\n",
       "       [0.04650728, 0.66666667, 0.5       , ..., 0.33333333, 0.33333333,\n",
       "        0.42877292],\n",
       "       ...,\n",
       "       [0.03618687, 0.66666667, 1.        , ..., 0.58333333, 0.66666667,\n",
       "        0.17771509],\n",
       "       [0.03934189, 0.44444444, 0.625     , ..., 0.25      , 0.        ,\n",
       "        0.16925247],\n",
       "       [0.04037019, 0.44444444, 0.625     , ..., 0.33333333, 0.        ,\n",
       "        0.19464034]])"
      ]
     },
     "execution_count": 49,
     "metadata": {},
     "output_type": "execute_result"
    }
   ],
   "source": [
    "min_max_scaler = preprocessing.MinMaxScaler()\n",
    "X_scale = min_max_scaler.fit_transform(X)\n",
    "X_scale"
   ]
  },
  {
   "cell_type": "code",
   "execution_count": 50,
   "metadata": {},
   "outputs": [],
   "source": [
    "from sklearn.model_selection import train_test_split"
   ]
  },
  {
   "cell_type": "markdown",
   "metadata": {},
   "source": [
    "Split data into 70% training, 15% validation, 15% test"
   ]
  },
  {
   "cell_type": "code",
   "execution_count": 51,
   "metadata": {},
   "outputs": [
    {
     "name": "stdout",
     "output_type": "stream",
     "text": [
      "(1022, 10) (219, 10)\n"
     ]
    }
   ],
   "source": [
    "X_train, X_val_and_test, Y_train, Y_val_and_test = train_test_split(X_scale, Y, test_size=0.3)\n",
    "X_val, X_test, Y_val, Y_test = train_test_split(X_val_and_test, Y_val_and_test, test_size=0.5)\n",
    "print(X_train.shape, X_val.shape)"
   ]
  },
  {
   "cell_type": "code",
   "execution_count": 71,
   "metadata": {},
   "outputs": [],
   "source": [
    "from keras.models import Sequential\n",
    "from keras.layers import Dense"
   ]
  },
  {
   "cell_type": "markdown",
   "metadata": {},
   "source": [
    "### Model 1:"
   ]
  },
  {
   "cell_type": "code",
   "execution_count": 104,
   "metadata": {},
   "outputs": [
    {
     "name": "stdout",
     "output_type": "stream",
     "text": [
      "Train on 1022 samples, validate on 219 samples\n",
      "Epoch 1/100\n",
      "1022/1022 [==============================] - 1s 868us/step - loss: 0.6797 - acc: 0.5176 - val_loss: 0.6774 - val_acc: 0.5023\n",
      "Epoch 2/100\n",
      "1022/1022 [==============================] - 0s 41us/step - loss: 0.6731 - acc: 0.5597 - val_loss: 0.6716 - val_acc: 0.5936\n",
      "Epoch 3/100\n",
      "1022/1022 [==============================] - 0s 39us/step - loss: 0.6677 - acc: 0.6076 - val_loss: 0.6661 - val_acc: 0.6484\n",
      "Epoch 4/100\n",
      "1022/1022 [==============================] - 0s 40us/step - loss: 0.6626 - acc: 0.6585 - val_loss: 0.6609 - val_acc: 0.6530\n",
      "Epoch 5/100\n",
      "1022/1022 [==============================] - 0s 36us/step - loss: 0.6578 - acc: 0.6703 - val_loss: 0.6558 - val_acc: 0.6804\n",
      "Epoch 6/100\n",
      "1022/1022 [==============================] - 0s 41us/step - loss: 0.6532 - acc: 0.6957 - val_loss: 0.6508 - val_acc: 0.7215\n",
      "Epoch 7/100\n",
      "1022/1022 [==============================] - 0s 43us/step - loss: 0.6488 - acc: 0.7182 - val_loss: 0.6461 - val_acc: 0.7397\n",
      "Epoch 8/100\n",
      "1022/1022 [==============================] - 0s 52us/step - loss: 0.6446 - acc: 0.7290 - val_loss: 0.6413 - val_acc: 0.7443\n",
      "Epoch 9/100\n",
      "1022/1022 [==============================] - 0s 47us/step - loss: 0.6402 - acc: 0.7446 - val_loss: 0.6362 - val_acc: 0.7717\n",
      "Epoch 10/100\n",
      "1022/1022 [==============================] - 0s 42us/step - loss: 0.6357 - acc: 0.7642 - val_loss: 0.6311 - val_acc: 0.7808\n",
      "Epoch 11/100\n",
      "1022/1022 [==============================] - 0s 33us/step - loss: 0.6309 - acc: 0.7769 - val_loss: 0.6259 - val_acc: 0.7854\n",
      "Epoch 12/100\n",
      "1022/1022 [==============================] - 0s 36us/step - loss: 0.6260 - acc: 0.7857 - val_loss: 0.6205 - val_acc: 0.7900\n",
      "Epoch 13/100\n",
      "1022/1022 [==============================] - 0s 41us/step - loss: 0.6208 - acc: 0.7838 - val_loss: 0.6146 - val_acc: 0.7854\n",
      "Epoch 14/100\n",
      "1022/1022 [==============================] - 0s 31us/step - loss: 0.6153 - acc: 0.8014 - val_loss: 0.6088 - val_acc: 0.7854\n",
      "Epoch 15/100\n",
      "1022/1022 [==============================] - 0s 37us/step - loss: 0.6096 - acc: 0.7926 - val_loss: 0.6023 - val_acc: 0.8082\n",
      "Epoch 16/100\n",
      "1022/1022 [==============================] - 0s 49us/step - loss: 0.6034 - acc: 0.7965 - val_loss: 0.5950 - val_acc: 0.8174\n",
      "Epoch 17/100\n",
      "1022/1022 [==============================] - 0s 48us/step - loss: 0.5970 - acc: 0.8102 - val_loss: 0.5883 - val_acc: 0.8174\n",
      "Epoch 18/100\n",
      "1022/1022 [==============================] - 0s 39us/step - loss: 0.5904 - acc: 0.8141 - val_loss: 0.5813 - val_acc: 0.8174\n",
      "Epoch 19/100\n",
      "1022/1022 [==============================] - 0s 42us/step - loss: 0.5835 - acc: 0.8082 - val_loss: 0.5731 - val_acc: 0.8219\n",
      "Epoch 20/100\n",
      "1022/1022 [==============================] - 0s 34us/step - loss: 0.5762 - acc: 0.8170 - val_loss: 0.5654 - val_acc: 0.8265\n",
      "Epoch 21/100\n",
      "1022/1022 [==============================] - 0s 33us/step - loss: 0.5689 - acc: 0.8170 - val_loss: 0.5573 - val_acc: 0.8356\n",
      "Epoch 22/100\n",
      "1022/1022 [==============================] - 0s 34us/step - loss: 0.5613 - acc: 0.8209 - val_loss: 0.5490 - val_acc: 0.8402\n",
      "Epoch 23/100\n",
      "1022/1022 [==============================] - 0s 35us/step - loss: 0.5535 - acc: 0.8268 - val_loss: 0.5412 - val_acc: 0.8402\n",
      "Epoch 24/100\n",
      "1022/1022 [==============================] - 0s 37us/step - loss: 0.5456 - acc: 0.8297 - val_loss: 0.5320 - val_acc: 0.8493\n",
      "Epoch 25/100\n",
      "1022/1022 [==============================] - 0s 35us/step - loss: 0.5373 - acc: 0.8366 - val_loss: 0.5242 - val_acc: 0.8402\n",
      "Epoch 26/100\n",
      "1022/1022 [==============================] - 0s 39us/step - loss: 0.5288 - acc: 0.8307 - val_loss: 0.5139 - val_acc: 0.8584\n",
      "Epoch 27/100\n",
      "1022/1022 [==============================] - 0s 40us/step - loss: 0.5207 - acc: 0.8327 - val_loss: 0.5059 - val_acc: 0.8584\n",
      "Epoch 28/100\n",
      "1022/1022 [==============================] - 0s 38us/step - loss: 0.5123 - acc: 0.8386 - val_loss: 0.4971 - val_acc: 0.8584\n",
      "Epoch 29/100\n",
      "1022/1022 [==============================] - 0s 42us/step - loss: 0.5037 - acc: 0.8376 - val_loss: 0.4877 - val_acc: 0.8630\n",
      "Epoch 30/100\n",
      "1022/1022 [==============================] - 0s 48us/step - loss: 0.4949 - acc: 0.8444 - val_loss: 0.4785 - val_acc: 0.8630\n",
      "Epoch 31/100\n",
      "1022/1022 [==============================] - 0s 41us/step - loss: 0.4865 - acc: 0.8444 - val_loss: 0.4701 - val_acc: 0.8676\n",
      "Epoch 32/100\n",
      "1022/1022 [==============================] - 0s 41us/step - loss: 0.4779 - acc: 0.8464 - val_loss: 0.4602 - val_acc: 0.8584\n",
      "Epoch 33/100\n",
      "1022/1022 [==============================] - 0s 42us/step - loss: 0.4697 - acc: 0.8493 - val_loss: 0.4517 - val_acc: 0.8676\n",
      "Epoch 34/100\n",
      "1022/1022 [==============================] - 0s 42us/step - loss: 0.4614 - acc: 0.8474 - val_loss: 0.4445 - val_acc: 0.8676\n",
      "Epoch 35/100\n",
      "1022/1022 [==============================] - 0s 39us/step - loss: 0.4534 - acc: 0.8523 - val_loss: 0.4368 - val_acc: 0.8676\n",
      "Epoch 36/100\n",
      "1022/1022 [==============================] - 0s 39us/step - loss: 0.4460 - acc: 0.8542 - val_loss: 0.4292 - val_acc: 0.8676\n",
      "Epoch 37/100\n",
      "1022/1022 [==============================] - 0s 36us/step - loss: 0.4384 - acc: 0.8523 - val_loss: 0.4222 - val_acc: 0.8584\n",
      "Epoch 38/100\n",
      "1022/1022 [==============================] - 0s 44us/step - loss: 0.4313 - acc: 0.8523 - val_loss: 0.4130 - val_acc: 0.8813\n",
      "Epoch 39/100\n",
      "1022/1022 [==============================] - 0s 39us/step - loss: 0.4246 - acc: 0.8532 - val_loss: 0.4063 - val_acc: 0.8813\n",
      "Epoch 40/100\n",
      "1022/1022 [==============================] - 0s 37us/step - loss: 0.4178 - acc: 0.8611 - val_loss: 0.3995 - val_acc: 0.8813\n",
      "Epoch 41/100\n",
      "1022/1022 [==============================] - 0s 39us/step - loss: 0.4120 - acc: 0.8581 - val_loss: 0.3937 - val_acc: 0.8813\n",
      "Epoch 42/100\n",
      "1022/1022 [==============================] - 0s 39us/step - loss: 0.4065 - acc: 0.8581 - val_loss: 0.3879 - val_acc: 0.8813\n",
      "Epoch 43/100\n",
      "1022/1022 [==============================] - 0s 38us/step - loss: 0.4003 - acc: 0.8552 - val_loss: 0.3809 - val_acc: 0.8904\n",
      "Epoch 44/100\n",
      "1022/1022 [==============================] - 0s 35us/step - loss: 0.3948 - acc: 0.8562 - val_loss: 0.3753 - val_acc: 0.8904\n",
      "Epoch 45/100\n",
      "1022/1022 [==============================] - 0s 39us/step - loss: 0.3900 - acc: 0.8620 - val_loss: 0.3704 - val_acc: 0.8904\n",
      "Epoch 46/100\n",
      "1022/1022 [==============================] - 0s 40us/step - loss: 0.3850 - acc: 0.8650 - val_loss: 0.3654 - val_acc: 0.8904\n",
      "Epoch 47/100\n",
      "1022/1022 [==============================] - 0s 39us/step - loss: 0.3800 - acc: 0.8650 - val_loss: 0.3600 - val_acc: 0.8904\n",
      "Epoch 48/100\n",
      "1022/1022 [==============================] - 0s 40us/step - loss: 0.3764 - acc: 0.8640 - val_loss: 0.3571 - val_acc: 0.8858\n",
      "Epoch 49/100\n",
      "1022/1022 [==============================] - 0s 41us/step - loss: 0.3719 - acc: 0.8650 - val_loss: 0.3524 - val_acc: 0.8904\n",
      "Epoch 50/100\n",
      "1022/1022 [==============================] - 0s 34us/step - loss: 0.3682 - acc: 0.8679 - val_loss: 0.3485 - val_acc: 0.8950\n",
      "Epoch 51/100\n",
      "1022/1022 [==============================] - 0s 41us/step - loss: 0.3638 - acc: 0.8679 - val_loss: 0.3473 - val_acc: 0.8904\n",
      "Epoch 52/100\n",
      "1022/1022 [==============================] - 0s 36us/step - loss: 0.3601 - acc: 0.8669 - val_loss: 0.3400 - val_acc: 0.8950\n",
      "Epoch 53/100\n",
      "1022/1022 [==============================] - 0s 35us/step - loss: 0.3577 - acc: 0.8659 - val_loss: 0.3372 - val_acc: 0.8995\n",
      "Epoch 54/100\n",
      "1022/1022 [==============================] - 0s 35us/step - loss: 0.3544 - acc: 0.8679 - val_loss: 0.3339 - val_acc: 0.8995\n",
      "Epoch 55/100\n",
      "1022/1022 [==============================] - 0s 35us/step - loss: 0.3514 - acc: 0.8689 - val_loss: 0.3309 - val_acc: 0.8950\n",
      "Epoch 56/100\n",
      "1022/1022 [==============================] - 0s 35us/step - loss: 0.3481 - acc: 0.8699 - val_loss: 0.3273 - val_acc: 0.8950\n",
      "Epoch 57/100\n",
      "1022/1022 [==============================] - 0s 38us/step - loss: 0.3459 - acc: 0.8708 - val_loss: 0.3244 - val_acc: 0.8950\n",
      "Epoch 58/100\n",
      "1022/1022 [==============================] - 0s 33us/step - loss: 0.3429 - acc: 0.8699 - val_loss: 0.3222 - val_acc: 0.8995\n",
      "Epoch 59/100\n",
      "1022/1022 [==============================] - 0s 39us/step - loss: 0.3406 - acc: 0.8669 - val_loss: 0.3208 - val_acc: 0.9041\n",
      "Epoch 60/100\n"
     ]
    },
    {
     "name": "stdout",
     "output_type": "stream",
     "text": [
      "1022/1022 [==============================] - 0s 41us/step - loss: 0.3378 - acc: 0.8650 - val_loss: 0.3168 - val_acc: 0.8950\n",
      "Epoch 61/100\n",
      "1022/1022 [==============================] - 0s 36us/step - loss: 0.3356 - acc: 0.8718 - val_loss: 0.3172 - val_acc: 0.9041\n",
      "Epoch 62/100\n",
      "1022/1022 [==============================] - 0s 35us/step - loss: 0.3336 - acc: 0.8650 - val_loss: 0.3139 - val_acc: 0.9041\n",
      "Epoch 63/100\n",
      "1022/1022 [==============================] - 0s 43us/step - loss: 0.3318 - acc: 0.8699 - val_loss: 0.3128 - val_acc: 0.9041\n",
      "Epoch 64/100\n",
      "1022/1022 [==============================] - 0s 39us/step - loss: 0.3295 - acc: 0.8679 - val_loss: 0.3100 - val_acc: 0.9041\n",
      "Epoch 65/100\n",
      "1022/1022 [==============================] - 0s 38us/step - loss: 0.3277 - acc: 0.8689 - val_loss: 0.3086 - val_acc: 0.9041\n",
      "Epoch 66/100\n",
      "1022/1022 [==============================] - 0s 34us/step - loss: 0.3257 - acc: 0.8699 - val_loss: 0.3055 - val_acc: 0.9087\n",
      "Epoch 67/100\n",
      "1022/1022 [==============================] - 0s 35us/step - loss: 0.3248 - acc: 0.8679 - val_loss: 0.3029 - val_acc: 0.8904\n",
      "Epoch 68/100\n",
      "1022/1022 [==============================] - 0s 38us/step - loss: 0.3222 - acc: 0.8689 - val_loss: 0.3042 - val_acc: 0.9041\n",
      "Epoch 69/100\n",
      "1022/1022 [==============================] - 0s 32us/step - loss: 0.3209 - acc: 0.8689 - val_loss: 0.3008 - val_acc: 0.9087\n",
      "Epoch 70/100\n",
      "1022/1022 [==============================] - 0s 45us/step - loss: 0.3195 - acc: 0.8718 - val_loss: 0.2990 - val_acc: 0.9041\n",
      "Epoch 71/100\n",
      "1022/1022 [==============================] - 0s 38us/step - loss: 0.3177 - acc: 0.8708 - val_loss: 0.2966 - val_acc: 0.9041\n",
      "Epoch 72/100\n",
      "1022/1022 [==============================] - 0s 43us/step - loss: 0.3164 - acc: 0.8699 - val_loss: 0.2992 - val_acc: 0.9087\n",
      "Epoch 73/100\n",
      "1022/1022 [==============================] - 0s 40us/step - loss: 0.3153 - acc: 0.8728 - val_loss: 0.2941 - val_acc: 0.9041\n",
      "Epoch 74/100\n",
      "1022/1022 [==============================] - 0s 43us/step - loss: 0.3139 - acc: 0.8767 - val_loss: 0.2959 - val_acc: 0.9087\n",
      "Epoch 75/100\n",
      "1022/1022 [==============================] - 0s 43us/step - loss: 0.3124 - acc: 0.8728 - val_loss: 0.2938 - val_acc: 0.9041\n",
      "Epoch 76/100\n",
      "1022/1022 [==============================] - 0s 37us/step - loss: 0.3106 - acc: 0.8718 - val_loss: 0.2962 - val_acc: 0.8995\n",
      "Epoch 77/100\n",
      "1022/1022 [==============================] - 0s 41us/step - loss: 0.3100 - acc: 0.8738 - val_loss: 0.2894 - val_acc: 0.9041\n",
      "Epoch 78/100\n",
      "1022/1022 [==============================] - 0s 39us/step - loss: 0.3083 - acc: 0.8738 - val_loss: 0.2936 - val_acc: 0.8995\n",
      "Epoch 79/100\n",
      "1022/1022 [==============================] - 0s 48us/step - loss: 0.3076 - acc: 0.8748 - val_loss: 0.2870 - val_acc: 0.9087\n",
      "Epoch 80/100\n",
      "1022/1022 [==============================] - 0s 53us/step - loss: 0.3062 - acc: 0.8748 - val_loss: 0.2888 - val_acc: 0.9041\n",
      "Epoch 81/100\n",
      "1022/1022 [==============================] - 0s 55us/step - loss: 0.3060 - acc: 0.8718 - val_loss: 0.2860 - val_acc: 0.9087\n",
      "Epoch 82/100\n",
      "1022/1022 [==============================] - 0s 45us/step - loss: 0.3040 - acc: 0.8708 - val_loss: 0.2850 - val_acc: 0.9132\n",
      "Epoch 83/100\n",
      "1022/1022 [==============================] - 0s 40us/step - loss: 0.3032 - acc: 0.8728 - val_loss: 0.2843 - val_acc: 0.9132\n",
      "Epoch 84/100\n",
      "1022/1022 [==============================] - 0s 39us/step - loss: 0.3034 - acc: 0.8738 - val_loss: 0.2832 - val_acc: 0.9132\n",
      "Epoch 85/100\n",
      "1022/1022 [==============================] - 0s 48us/step - loss: 0.3011 - acc: 0.8748 - val_loss: 0.2849 - val_acc: 0.9041\n",
      "Epoch 86/100\n",
      "1022/1022 [==============================] - 0s 43us/step - loss: 0.3003 - acc: 0.8787 - val_loss: 0.2815 - val_acc: 0.9132\n",
      "Epoch 87/100\n",
      "1022/1022 [==============================] - 0s 46us/step - loss: 0.2992 - acc: 0.8738 - val_loss: 0.2802 - val_acc: 0.9178\n",
      "Epoch 88/100\n",
      "1022/1022 [==============================] - 0s 36us/step - loss: 0.2983 - acc: 0.8757 - val_loss: 0.2828 - val_acc: 0.8995\n",
      "Epoch 89/100\n",
      "1022/1022 [==============================] - 0s 49us/step - loss: 0.2978 - acc: 0.8767 - val_loss: 0.2800 - val_acc: 0.9132\n",
      "Epoch 90/100\n",
      "1022/1022 [==============================] - 0s 39us/step - loss: 0.2966 - acc: 0.8767 - val_loss: 0.2808 - val_acc: 0.9087\n",
      "Epoch 91/100\n",
      "1022/1022 [==============================] - 0s 43us/step - loss: 0.2962 - acc: 0.8757 - val_loss: 0.2779 - val_acc: 0.9132\n",
      "Epoch 92/100\n",
      "1022/1022 [==============================] - 0s 48us/step - loss: 0.2947 - acc: 0.8796 - val_loss: 0.2785 - val_acc: 0.9132\n",
      "Epoch 93/100\n",
      "1022/1022 [==============================] - 0s 44us/step - loss: 0.2943 - acc: 0.8787 - val_loss: 0.2787 - val_acc: 0.9132\n",
      "Epoch 94/100\n",
      "1022/1022 [==============================] - 0s 52us/step - loss: 0.2936 - acc: 0.8767 - val_loss: 0.2783 - val_acc: 0.9087\n",
      "Epoch 95/100\n",
      "1022/1022 [==============================] - 0s 41us/step - loss: 0.2926 - acc: 0.8787 - val_loss: 0.2746 - val_acc: 0.9132\n",
      "Epoch 96/100\n",
      "1022/1022 [==============================] - 0s 42us/step - loss: 0.2918 - acc: 0.8787 - val_loss: 0.2751 - val_acc: 0.9132\n",
      "Epoch 97/100\n",
      "1022/1022 [==============================] - 0s 34us/step - loss: 0.2908 - acc: 0.8806 - val_loss: 0.2788 - val_acc: 0.9041\n",
      "Epoch 98/100\n",
      "1022/1022 [==============================] - 0s 35us/step - loss: 0.2915 - acc: 0.8806 - val_loss: 0.2740 - val_acc: 0.9224\n",
      "Epoch 99/100\n",
      "1022/1022 [==============================] - 0s 34us/step - loss: 0.2885 - acc: 0.8748 - val_loss: 0.2767 - val_acc: 0.9087\n",
      "Epoch 100/100\n",
      "1022/1022 [==============================] - 0s 33us/step - loss: 0.2893 - acc: 0.8796 - val_loss: 0.2755 - val_acc: 0.9087\n"
     ]
    }
   ],
   "source": [
    "model = Sequential([\n",
    "    Dense(32, activation='relu', input_shape=(10,)),\n",
    "    Dense(32, activation='relu'),\n",
    "    Dense(1, activation='sigmoid'),\n",
    "])\n",
    "\n",
    "\n",
    "model.compile(optimizer='sgd',      \n",
    "              loss='binary_crossentropy',              \n",
    "              metrics=['accuracy'])\n",
    "\n",
    "\n",
    "hist = model.fit(X_train, Y_train,          \n",
    "                 batch_size=32, epochs=100,          \n",
    "                 validation_data=(X_val, Y_val))"
   ]
  },
  {
   "cell_type": "code",
   "execution_count": 44,
   "metadata": {},
   "outputs": [],
   "source": [
    "import matplotlib.pyplot as plt"
   ]
  },
  {
   "cell_type": "code",
   "execution_count": 105,
   "metadata": {
    "scrolled": true
   },
   "outputs": [
    {
     "data": {
      "image/png": "[encoded data removed]",
      "text/plain": [
       "<Figure size 864x288 with 2 Axes>"
      ]
     },
     "metadata": {
      "needs_background": "light"
     },
     "output_type": "display_data"
    }
   ],
   "source": [
    "plt.figure(figsize=(12, 4))\n",
    "\n",
    "plt.subplot(1, 2, 1)\n",
    "plt.plot(hist.history['loss'])\n",
    "plt.plot(hist.history['val_loss'])\n",
    "plt.title('Model loss')\n",
    "plt.ylabel('Loss')\n",
    "plt.xlabel('Epoch')\n",
    "plt.legend(['Train', 'Val'], loc='upper right')\n",
    "\n",
    "plt.subplot(1, 2, 2)\n",
    "plt.plot(hist.history['acc'])\n",
    "plt.plot(hist.history['val_acc'])\n",
    "plt.title('Model accuracy')\n",
    "plt.ylabel('Accuracy')\n",
    "plt.xlabel('Epoch')\n",
    "plt.legend(['Train', 'Val'], loc='lower right')\n",
    "\n",
    "plt.show()"
   ]
  },
  {
   "cell_type": "markdown",
   "metadata": {},
   "source": [
    "### Model 2:"
   ]
  },
  {
   "cell_type": "code",
   "execution_count": null,
   "metadata": {},
   "outputs": [],
   "source": [
    "model_2 = Sequential([\n",
    "    Dense(1000, activation='relu', input_shape=(10,)),\n",
    "    Dense(1000, activation='relu'),\n",
    "    Dense(1000, activation='relu'),\n",
    "    Dense(1, activation='sigmoid'),\n",
    "])\n",
    "\n",
    "\n",
    "model_2.compile(optimizer='adam',      \n",
    "              loss='binary_crossentropy',              \n",
    "              metrics=['accuracy'])\n",
    "\n",
    "\n",
    "hist = model_2.fit(X_train, Y_train,          \n",
    "                 batch_size=32, epochs=100,          \n",
    "                 validation_data=(X_val, Y_val))"
   ]
  },
  {
   "cell_type": "code",
   "execution_count": 107,
   "metadata": {},
   "outputs": [
    {
     "data": {
      "image/png": "[encoded data removed]",
      "text/plain": [
       "<Figure size 864x288 with 2 Axes>"
      ]
     },
     "metadata": {
      "needs_background": "light"
     },
     "output_type": "display_data"
    }
   ],
   "source": [
    "plt.figure(figsize=(12, 4))\n",
    "\n",
    "plt.subplot(1, 2, 1)\n",
    "plt.plot(hist.history['loss'])\n",
    "plt.plot(hist.history['val_loss'])\n",
    "plt.title('Model loss')\n",
    "plt.ylabel('Loss')\n",
    "plt.xlabel('Epoch')\n",
    "plt.legend(['Train', 'Val'], loc='upper right')\n",
    "\n",
    "plt.subplot(1, 2, 2)\n",
    "plt.plot(hist.history['acc'])\n",
    "plt.plot(hist.history['val_acc'])\n",
    "plt.title('Model accuracy')\n",
    "plt.ylabel('Accuracy')\n",
    "plt.xlabel('Epoch')\n",
    "plt.legend(['Train', 'Val'], loc='lower right')\n",
    "\n",
    "plt.show()"
   ]
  },
  {
   "cell_type": "markdown",
   "metadata": {},
   "source": [
    "### Model 3:"
   ]
  },
  {
   "cell_type": "code",
   "execution_count": 102,
   "metadata": {},
   "outputs": [],
   "source": [
    "from keras.layers import Dropout\n",
    "from keras import regularizers"
   ]
  },
  {
   "cell_type": "code",
   "execution_count": null,
   "metadata": {},
   "outputs": [],
   "source": [
    "model_3 = Sequential([    \n",
    "    Dense(1000, activation='relu', kernel_regularizer=regularizers.l2(0.01), input_shape=(10,)), Dropout(0.3),    \n",
    "    Dense(1000, activation='relu', kernel_regularizer=regularizers.l2(0.01)),    \n",
    "    Dropout(0.3),    \n",
    "    Dense(1000, activation='relu', kernel_regularizer=regularizers.l2(0.01)),    \n",
    "    Dropout(0.3),    \n",
    "    Dense(1000, activation='relu', kernel_regularizer=regularizers.l2(0.01)),    \n",
    "    Dropout(0.3),    \n",
    "    Dense(1, activation='sigmoid', kernel_regularizer=regularizers.l2(0.01)),\n",
    "])\n",
    "\n",
    "model_3.compile(optimizer='adam',      \n",
    "              loss='binary_crossentropy',              \n",
    "              metrics=['accuracy'])\n",
    "\n",
    "\n",
    "hist = model_3.fit(X_train, Y_train,          \n",
    "                 batch_size=32, epochs=100,          \n",
    "                 validation_data=(X_val, Y_val))\n"
   ]
  },
  {
   "cell_type": "code",
   "execution_count": null,
   "metadata": {},
   "outputs": [],
   "source": []
  }
 ],
 "metadata": {
  "kernelspec": {
   "display_name": "Python 3",
   "language": "python",
   "name": "python3"
  },
  "language_info": {
   "codemirror_mode": {
    "name": "ipython",
    "version": 3
   },
   "file_extension": ".py",
   "mimetype": "text/x-python",
   "name": "python",
   "nbconvert_exporter": "python",
   "pygments_lexer": "ipython3",
   "version": "3.7.4"
  }
 },
 "nbformat": 4,
 "nbformat_minor": 2
}
